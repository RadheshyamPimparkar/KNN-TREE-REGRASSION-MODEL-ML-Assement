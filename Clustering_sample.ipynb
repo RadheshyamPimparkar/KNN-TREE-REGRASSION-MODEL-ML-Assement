{
  "cells": [
    {
      "cell_type": "code",
      "execution_count": null,
      "metadata": {
        "id": "Fm19HxKyNj_L"
      },
      "outputs": [],
      "source": [
        "from sklearn.datasets import make_classification\n",
        "X, Y  = make_classification(n_samples=100,n_features=5)"
      ]
    },
    {
      "cell_type": "code",
      "execution_count": null,
      "metadata": {
        "id": "8Q9wHdo4Nj_M"
      },
      "outputs": [],
      "source": [
        "import pandas as pd\n",
        "\n",
        "data  = pd.DataFrame(X,columns = [\"X1\",\"X2\",\"X3\",\"X4\",\"X5\"])"
      ]
    },
    {
      "cell_type": "code",
      "execution_count": null,
      "metadata": {
        "id": "utPlzZ7YNj_N",
        "outputId": "02285f18-04c8-4ed2-f8d6-b3799295586f"
      },
      "outputs": [
        {
          "data": {
            "text/html": [
              "<div>\n",
              "<style scoped>\n",
              "    .dataframe tbody tr th:only-of-type {\n",
              "        vertical-align: middle;\n",
              "    }\n",
              "\n",
              "    .dataframe tbody tr th {\n",
              "        vertical-align: top;\n",
              "    }\n",
              "\n",
              "    .dataframe thead th {\n",
              "        text-align: right;\n",
              "    }\n",
              "</style>\n",
              "<table border=\"1\" class=\"dataframe\">\n",
              "  <thead>\n",
              "    <tr style=\"text-align: right;\">\n",
              "      <th></th>\n",
              "      <th>X1</th>\n",
              "      <th>X2</th>\n",
              "      <th>X3</th>\n",
              "      <th>X4</th>\n",
              "      <th>X5</th>\n",
              "    </tr>\n",
              "  </thead>\n",
              "  <tbody>\n",
              "    <tr>\n",
              "      <th>0</th>\n",
              "      <td>-0.020672</td>\n",
              "      <td>-1.988797</td>\n",
              "      <td>1.601148</td>\n",
              "      <td>-0.683444</td>\n",
              "      <td>0.176494</td>\n",
              "    </tr>\n",
              "    <tr>\n",
              "      <th>1</th>\n",
              "      <td>0.676855</td>\n",
              "      <td>-0.828731</td>\n",
              "      <td>0.586581</td>\n",
              "      <td>1.370116</td>\n",
              "      <td>-0.997467</td>\n",
              "    </tr>\n",
              "    <tr>\n",
              "      <th>2</th>\n",
              "      <td>0.161018</td>\n",
              "      <td>-0.116395</td>\n",
              "      <td>0.330135</td>\n",
              "      <td>0.250412</td>\n",
              "      <td>-0.220099</td>\n",
              "    </tr>\n",
              "    <tr>\n",
              "      <th>3</th>\n",
              "      <td>-0.366261</td>\n",
              "      <td>0.538928</td>\n",
              "      <td>0.810566</td>\n",
              "      <td>-1.188392</td>\n",
              "      <td>0.641488</td>\n",
              "    </tr>\n",
              "    <tr>\n",
              "      <th>4</th>\n",
              "      <td>-0.405383</td>\n",
              "      <td>-1.244965</td>\n",
              "      <td>-1.422932</td>\n",
              "      <td>-0.395935</td>\n",
              "      <td>0.500752</td>\n",
              "    </tr>\n",
              "  </tbody>\n",
              "</table>\n",
              "</div>"
            ],
            "text/plain": [
              "         X1        X2        X3        X4        X5\n",
              "0 -0.020672 -1.988797  1.601148 -0.683444  0.176494\n",
              "1  0.676855 -0.828731  0.586581  1.370116 -0.997467\n",
              "2  0.161018 -0.116395  0.330135  0.250412 -0.220099\n",
              "3 -0.366261  0.538928  0.810566 -1.188392  0.641488\n",
              "4 -0.405383 -1.244965 -1.422932 -0.395935  0.500752"
            ]
          },
          "execution_count": 6,
          "metadata": {},
          "output_type": "execute_result"
        }
      ],
      "source": [
        "data.head()"
      ]
    },
    {
      "cell_type": "code",
      "execution_count": null,
      "metadata": {
        "id": "fH0dzE_UNj_N",
        "outputId": "bda3f274-ff08-41ec-a272-4a16e6a87d26"
      },
      "outputs": [
        {
          "data": {
            "text/plain": [
              "[<matplotlib.lines.Line2D at 0x7f168f08c350>]"
            ]
          },
          "execution_count": 8,
          "metadata": {},
          "output_type": "execute_result"
        },
        {
          "data": {
            "image/png": "[encoded data removed]",
            "text/plain": [
              "<Figure size 432x288 with 1 Axes>"
            ]
          },
          "metadata": {
            "needs_background": "light"
          },
          "output_type": "display_data"
        }
      ],
      "source": [
        "from matplotlib import pyplot as plt\n",
        "plt.plot(data.X1,data.X2,'.')"
      ]
    },
    {
      "cell_type": "code",
      "execution_count": null,
      "metadata": {
        "id": "8x1F5vnENj_O"
      },
      "outputs": [],
      "source": [
        "from sklearn.cluster import KMeans"
      ]
    },
    {
      "cell_type": "code",
      "execution_count": null,
      "metadata": {
        "id": "kwXuqH1qNj_O"
      },
      "outputs": [],
      "source": [
        "model  = KMeans(n_clusters=3)"
      ]
    },
    {
      "cell_type": "code",
      "execution_count": null,
      "metadata": {
        "id": "A-om5CjxNj_O",
        "outputId": "d9164cd4-5745-43fa-d1b2-391919480080"
      },
      "outputs": [
        {
          "data": {
            "text/plain": [
              "KMeans(n_clusters=3)"
            ]
          },
          "execution_count": 11,
          "metadata": {},
          "output_type": "execute_result"
        }
      ],
      "source": [
        "model.fit(data.iloc[:,[0,1]])"
      ]
    },
    {
      "cell_type": "code",
      "execution_count": null,
      "metadata": {
        "id": "OczYD1HGNj_P",
        "outputId": "f91018b9-3ed9-4dea-84cb-462933260bd7"
      },
      "outputs": [
        {
          "data": {
            "text/plain": [
              "array([0, 2, 2, 1, 0, 1, 1, 2, 1, 0, 2, 2, 1, 1, 1, 1, 0, 2, 2, 1, 1, 1,\n",
              "       2, 0, 0, 1, 1, 2, 1, 2, 1, 2, 2, 2, 2, 1, 2, 1, 1, 2, 2, 1, 0, 1,\n",
              "       2, 2, 1, 2, 2, 1, 1, 2, 1, 1, 1, 2, 0, 1, 1, 1, 2, 2, 2, 0, 1, 1,\n",
              "       2, 1, 2, 1, 2, 2, 1, 2, 1, 1, 1, 2, 2, 1, 1, 2, 1, 1, 2, 0, 1, 1,\n",
              "       1, 0, 1, 1, 0, 2, 1, 2, 1, 2, 0, 1], dtype=int32)"
            ]
          },
          "execution_count": 14,
          "metadata": {},
          "output_type": "execute_result"
        }
      ],
      "source": [
        "model.labels_"
      ]
    },
    {
      "cell_type": "code",
      "execution_count": null,
      "metadata": {
        "id": "mZunBd3ENj_P",
        "outputId": "0a2a2c7a-f472-40e9-8745-aff5594d5c59"
      },
      "outputs": [
        {
          "name": "stderr",
          "output_type": "stream",
          "text": [
            "No handles with labels found to put in legend.\n"
          ]
        },
        {
          "data": {
            "image/png": "[encoded data removed]",
            "text/plain": [
              "<Figure size 432x288 with 1 Axes>"
            ]
          },
          "metadata": {
            "needs_background": "light"
          },
          "output_type": "display_data"
        }
      ],
      "source": [
        "plt.scatter(data.X1,data.X2,c=model.labels_)\n",
        "plt.legend()\n",
        "plt.show()"
      ]
    },
    {
      "cell_type": "code",
      "execution_count": null,
      "metadata": {
        "id": "v0TTpudDNj_Q",
        "outputId": "aa76abc0-be64-4c68-9ccc-831a9a531835"
      },
      "outputs": [
        {
          "name": "stderr",
          "output_type": "stream",
          "text": [
            "No handles with labels found to put in legend.\n"
          ]
        },
        {
          "data": {
            "image/png": "[encoded data removed]",
            "text/plain": [
              "<Figure size 432x288 with 1 Axes>"
            ]
          },
          "metadata": {
            "needs_background": "light"
          },
          "output_type": "display_data"
        }
      ],
      "source": [
        "fig, ax = plt.subplots()\n",
        "#for color in [0:'blue', 1:'orange', 2:'green']:\n",
        "ax.scatter(data.X1, data.X2, c=model.labels_)\n",
        "\n",
        "ax.legend()\n",
        "plt.show()\n"
      ]
    },
    {
      "cell_type": "code",
      "execution_count": null,
      "metadata": {
        "id": "AGdqRQwSNj_R",
        "outputId": "df6175a1-1833-46d2-aab6-d9de342eddc6"
      },
      "outputs": [
        {
          "data": {
            "text/plain": [
              "0.4017510089562085"
            ]
          },
          "execution_count": 28,
          "metadata": {},
          "output_type": "execute_result"
        }
      ],
      "source": [
        "from sklearn.metrics import silhouette_score\n",
        "silhouette_score(data.iloc[:,[0,1]],model.labels_)"
      ]
    },
    {
      "cell_type": "code",
      "execution_count": null,
      "metadata": {
        "id": "zFpbwKDNNj_R"
      },
      "outputs": [],
      "source": [
        "ss = []\n",
        "for k in range(2,50):\n",
        "    model  = KMeans(n_clusters=k)\n",
        "    model.fit(data.iloc[:,[0,1]])\n",
        "    ss.append(silhouette_score(data.iloc[:,[0,1]],model.labels_))"
      ]
    },
    {
      "cell_type": "code",
      "execution_count": null,
      "metadata": {
        "id": "M-LCFQ00Nj_R",
        "outputId": "be12d170-aad2-40cf-96ea-a45f3b925c02"
      },
      "outputs": [
        {
          "data": {
            "text/plain": [
              "0.4671111103314991"
            ]
          },
          "execution_count": 35,
          "metadata": {},
          "output_type": "execute_result"
        }
      ],
      "source": [
        "max(ss)"
      ]
    },
    {
      "cell_type": "code",
      "execution_count": null,
      "metadata": {
        "id": "TrYxIpfQNj_R"
      },
      "outputs": [],
      "source": [
        "import numpy as np\n",
        "best_k = np.array(ss).argmax() + 2"
      ]
    },
    {
      "cell_type": "code",
      "execution_count": null,
      "metadata": {
        "id": "cWpuUS0nNj_S",
        "outputId": "873eef8e-65cd-4526-e008-0049de1304ae"
      },
      "outputs": [
        {
          "data": {
            "text/plain": [
              "12"
            ]
          },
          "execution_count": 37,
          "metadata": {},
          "output_type": "execute_result"
        }
      ],
      "source": [
        "best_k"
      ]
    },
    {
      "cell_type": "code",
      "execution_count": null,
      "metadata": {
        "id": "fgJs7FPGNj_S"
      },
      "outputs": [],
      "source": [
        "X, Y  = make_classification(n_samples=100,n_features=5)\n",
        "from sklearn.preprocessing import MinMaxScaler\n",
        "func = MinMaxScaler(feature_range= (0,1))"
      ]
    },
    {
      "cell_type": "code",
      "execution_count": null,
      "metadata": {
        "id": "ogKIAd2gNj_S"
      },
      "outputs": [],
      "source": [
        "tr_X  = func.fit_transform(X)"
      ]
    },
    {
      "cell_type": "code",
      "execution_count": null,
      "metadata": {
        "id": "O4C6A_AmNj_S"
      },
      "outputs": [],
      "source": [
        "model  = KMeans()"
      ]
    },
    {
      "cell_type": "code",
      "execution_count": null,
      "metadata": {
        "id": "YTUJre6zNj_S",
        "outputId": "71f05b58-f52f-497d-b20f-2ddd6130a677"
      },
      "outputs": [
        {
          "data": {
            "text/plain": [
              "KMeans()"
            ]
          },
          "execution_count": 44,
          "metadata": {},
          "output_type": "execute_result"
        }
      ],
      "source": [
        "model.fit(tr_X[:,[0,1]])"
      ]
    },
    {
      "cell_type": "code",
      "execution_count": null,
      "metadata": {
        "id": "_pCdIsgxNj_T",
        "outputId": "77f69b3b-75d0-48f1-d105-f6685dbe65a1"
      },
      "outputs": [
        {
          "data": {
            "text/plain": [
              "array([[0.50123023, 0.77189797],\n",
              "       [0.61923427, 0.0960339 ],\n",
              "       [0.77909907, 0.35185464],\n",
              "       [0.22687919, 0.61275649],\n",
              "       [0.52585215, 0.4992833 ],\n",
              "       [0.74573739, 0.65839599],\n",
              "       [0.4362704 , 0.32823572],\n",
              "       [0.77365652, 0.90607393]])"
            ]
          },
          "execution_count": 45,
          "metadata": {},
          "output_type": "execute_result"
        }
      ],
      "source": [
        "model.cluster_centers_"
      ]
    },
    {
      "cell_type": "code",
      "execution_count": null,
      "metadata": {
        "id": "u7AeF1EMNj_T",
        "outputId": "5243b949-4d7b-477f-84de-92e81a789585"
      },
      "outputs": [
        {
          "data": {
            "text/plain": [
              "array([6], dtype=int32)"
            ]
          },
          "execution_count": 47,
          "metadata": {},
          "output_type": "execute_result"
        }
      ],
      "source": [
        "model.predict([[0.42,0.31]])"
      ]
    },
    {
      "cell_type": "code",
      "execution_count": null,
      "metadata": {
        "id": "0NOEEfXgNj_T"
      },
      "outputs": [],
      "source": [
        "from sklearn.cluster import DBSCAN\n",
        "model  = DBSCAN(eps= 0.08,min_samples=2)\n"
      ]
    },
    {
      "cell_type": "code",
      "execution_count": null,
      "metadata": {
        "id": "XciVPtubNj_T",
        "outputId": "8e43c377-00c6-45c3-c54d-059a8f812dac"
      },
      "outputs": [
        {
          "data": {
            "text/plain": [
              "DBSCAN(eps=0.08, min_samples=2)"
            ]
          },
          "execution_count": 64,
          "metadata": {},
          "output_type": "execute_result"
        }
      ],
      "source": [
        "model.fit(tr_X[:,[0,1]])"
      ]
    },
    {
      "cell_type": "code",
      "execution_count": null,
      "metadata": {
        "id": "sRAraSCpNj_T",
        "outputId": "5b3855fc-edb4-4993-d1d6-50cc256ce2cb"
      },
      "outputs": [
        {
          "data": {
            "text/plain": [
              "array([-1, -1,  0,  1,  2,  3,  1,  1,  4,  5,  4,  4,  4,  1,  4,  5,  1,\n",
              "        4,  4,  1,  4,  6,  1, -1,  4,  1,  4, -1,  4,  7,  8,  2,  1,  9,\n",
              "       -1,  4,  2,  8,  1,  1, 10,  1, -1,  2,  1, -1, 10,  4,  2,  1,  1,\n",
              "       -1, -1,  1,  4,  1,  4,  1,  4,  2,  2, -1,  0,  1,  1,  1,  1,  1,\n",
              "       -1,  4,  1,  1,  4,  1,  9,  3,  1,  1,  6,  1,  1,  1, 11,  1,  0,\n",
              "        4,  4,  4,  1,  1, 11,  4,  2, -1, -1, -1,  4,  7,  1,  1])"
            ]
          },
          "execution_count": 65,
          "metadata": {},
          "output_type": "execute_result"
        }
      ],
      "source": [
        "model.labels_"
      ]
    },
    {
      "cell_type": "code",
      "execution_count": null,
      "metadata": {
        "id": "NonvpVE0Nj_U",
        "outputId": "92d67379-e4cc-4c3a-9b85-9848a92dbe1f"
      },
      "outputs": [
        {
          "data": {
            "text/plain": [
              "<matplotlib.collections.PathCollection at 0x7f1682bdc450>"
            ]
          },
          "execution_count": 67,
          "metadata": {},
          "output_type": "execute_result"
        },
        {
          "data": {
            "image/png": "[encoded data removed]",
            "text/plain": [
              "<Figure size 432x288 with 1 Axes>"
            ]
          },
          "metadata": {
            "needs_background": "light"
          },
          "output_type": "display_data"
        }
      ],
      "source": [
        "plt.scatter(tr_X[:,0],tr_X[:,1],c=model.labels_)"
      ]
    },
    {
      "cell_type": "code",
      "execution_count": null,
      "metadata": {
        "id": "oOaxk5UtNj_U",
        "outputId": "ed7289cf-3f7a-4dad-ca3a-6e1010fc5416"
      },
      "outputs": [
        {
          "data": {
            "text/plain": [
              " 1     36\n",
              " 4     23\n",
              "-1     14\n",
              " 2      8\n",
              " 0      3\n",
              " 11     2\n",
              " 10     2\n",
              " 9      2\n",
              " 8      2\n",
              " 7      2\n",
              " 6      2\n",
              " 5      2\n",
              " 3      2\n",
              "dtype: int64"
            ]
          },
          "execution_count": 68,
          "metadata": {},
          "output_type": "execute_result"
        }
      ],
      "source": [
        "pd.DataFrame(model.labels_).value_counts()"
      ]
    },
    {
      "cell_type": "code",
      "execution_count": null,
      "metadata": {
        "id": "vyz-yfFjNj_U"
      },
      "outputs": [],
      "source": [
        "from sklearn.cluster import AgglomerativeClustering"
      ]
    },
    {
      "cell_type": "code",
      "execution_count": null,
      "metadata": {
        "id": "tjhcq-TyNj_U"
      },
      "outputs": [],
      "source": [
        "model  = AgglomerativeClustering(n_clusters=2,linkage= 'single')"
      ]
    },
    {
      "cell_type": "code",
      "execution_count": null,
      "metadata": {
        "id": "tmUtcddQNj_U",
        "outputId": "8acdec73-4dbf-4351-e0e0-614b21c03c39"
      },
      "outputs": [
        {
          "data": {
            "text/plain": [
              "AgglomerativeClustering(linkage='single')"
            ]
          },
          "execution_count": 90,
          "metadata": {},
          "output_type": "execute_result"
        }
      ],
      "source": [
        "model.fit(tr_X[:,[0,1]])"
      ]
    },
    {
      "cell_type": "code",
      "execution_count": null,
      "metadata": {
        "id": "LbinZrxYNj_U",
        "outputId": "2e4ed8fa-e58c-4e46-a26f-c89468ed829d"
      },
      "outputs": [
        {
          "data": {
            "text/plain": [
              "array([1, 1, 1, 1, 1, 1, 1, 1, 1, 1, 1, 1, 1, 1, 1, 1, 1, 1, 1, 1, 1, 1,\n",
              "       1, 1, 1, 1, 1, 1, 1, 1, 1, 1, 1, 1, 1, 1, 1, 1, 1, 1, 1, 1, 1, 1,\n",
              "       1, 1, 1, 1, 1, 1, 1, 1, 0, 1, 1, 1, 1, 1, 1, 1, 1, 1, 1, 1, 1, 1,\n",
              "       1, 1, 1, 1, 1, 1, 1, 1, 1, 1, 1, 1, 1, 1, 1, 1, 1, 1, 1, 1, 1, 1,\n",
              "       1, 1, 1, 1, 1, 1, 0, 1, 1, 1, 1, 1])"
            ]
          },
          "execution_count": 91,
          "metadata": {},
          "output_type": "execute_result"
        }
      ],
      "source": [
        "model.labels_"
      ]
    },
    {
      "cell_type": "code",
      "execution_count": null,
      "metadata": {
        "id": "2V2gb7TrNj_U",
        "outputId": "bbeb62bc-4b68-42da-f14a-c383b08a2e38"
      },
      "outputs": [
        {
          "data": {
            "text/plain": [
              "<matplotlib.collections.PathCollection at 0x7f1682d02190>"
            ]
          },
          "execution_count": 92,
          "metadata": {},
          "output_type": "execute_result"
        },
        {
          "data": {
            "image/png": "[encoded data removed]",
            "text/plain": [
              "<Figure size 432x288 with 1 Axes>"
            ]
          },
          "metadata": {
            "needs_background": "light"
          },
          "output_type": "display_data"
        }
      ],
      "source": [
        "plt.scatter(tr_X[:,0],tr_X[:,1],c = model.labels_)"
      ]
    },
    {
      "cell_type": "code",
      "execution_count": null,
      "metadata": {
        "id": "ZXhAnfc9Nj_U",
        "outputId": "3cc459ea-c85e-4a67-a8e5-f914fe065ebe"
      },
      "outputs": [
        {
          "data": {
            "text/plain": [
              "0.39205475206546614"
            ]
          },
          "execution_count": 93,
          "metadata": {},
          "output_type": "execute_result"
        }
      ],
      "source": [
        "silhouette_score(tr_X[:,[0,1]],model.labels_)"
      ]
    },
    {
      "cell_type": "code",
      "execution_count": null,
      "metadata": {
        "id": "ljiqQp9tNj_U"
      },
      "outputs": [],
      "source": [
        "# -- > Market Basket Analysis (Recommendation Systems, Imbalanced Classification)"
      ]
    }
  ],
  "metadata": {
    "kernelspec": {
      "display_name": "Python 3",
      "language": "python",
      "name": "python3"
    },
    "language_info": {
      "codemirror_mode": {
        "name": "ipython",
        "version": 3
      },
      "file_extension": ".py",
      "mimetype": "text/x-python",
      "name": "python",
      "nbconvert_exporter": "python",
      "pygments_lexer": "ipython3",
      "version": "3.7.5"
    },
    "colab": {
      "name": "Clustering_sample.ipynb",
      "provenance": []
    }
  },
  "nbformat": 4,
  "nbformat_minor": 0
}